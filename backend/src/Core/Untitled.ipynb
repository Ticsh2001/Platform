{
 "cells": [
  {
   "cell_type": "code",
   "execution_count": 1,
   "id": "105fdb88-7cf8-4485-83e1-8130c2901855",
   "metadata": {},
   "outputs": [],
   "source": [
    "from Port import Port\n",
    "from Value import Value\n",
    "from Value import ValueClass\n",
    "import uuid"
   ]
  },
  {
   "cell_type": "code",
   "execution_count": 2,
   "id": "4cd3dc41-4c9b-4813-90ab-a9091422e2b0",
   "metadata": {},
   "outputs": [],
   "source": [
    "enthalpy = ValueClass('enthalpy', 'thermodynamic', 'J/kg')\n",
    "pressure = ValueClass('pressure', 'thermodynamic', 'Pa')\n",
    "FlowRate = ValueClass('mass flow rate', 'fluid dynamic', 'kg/s')\n"
   ]
  },
  {
   "cell_type": "code",
   "execution_count": 3,
   "id": "d6ee7c67-5930-4268-9fff-cd1c317d9cef",
   "metadata": {},
   "outputs": [],
   "source": [
    "port = Port('1_1', Value('h', enthalpy, 0., \n",
    "                         'энтальпия рабочего тела',\n",
    "                         store_prev=True,\n",
    "                         min_value=0, max_value=1000),\n",
    "                    Value('p', pressure, 0., \n",
    "                         'давление рабочего тела',\n",
    "                         store_prev=True,\n",
    "                         min_value=0, max_value=1000),\n",
    "                    Value('G', FlowRate, 0., \n",
    "                         'расход рабочего тела',\n",
    "                         store_prev=True,\n",
    "                         min_value=0, max_value=1000))\n",
    "            "
   ]
  },
  {
   "cell_type": "markdown",
   "id": "e838dec9-01cb-4ebf-a86d-88e6875d00e9",
   "metadata": {},
   "source": [
    "Итерирование по параметрам порта:"
   ]
  },
  {
   "cell_type": "code",
   "execution_count": 4,
   "id": "9143d7d5-cf19-4cac-9e45-fbb0bf681943",
   "metadata": {},
   "outputs": [
    {
     "name": "stdout",
     "output_type": "stream",
     "text": [
      "ead3fe7a-99f3-4258-bc49-77bcd545a592 Value(name='h', dimension='J/kg', value=0.0, status=UNKNOWN)\n",
      "e2518350-03aa-4c53-9d19-25ab87384ed7 Value(name='p', dimension='Pa', value=0.0, status=UNKNOWN)\n",
      "92163993-6a4e-4098-b1ec-923c3c9818e6 Value(name='G', dimension='kg/s', value=0.0, status=UNKNOWN)\n"
     ]
    }
   ],
   "source": [
    "for val in port:\n",
    "    print(val[0], val[1])"
   ]
  },
  {
   "cell_type": "code",
   "execution_count": 5,
   "id": "915823a5-415f-4643-96d3-5d7049dae4d6",
   "metadata": {},
   "outputs": [
    {
     "data": {
      "text/plain": [
       "True"
      ]
     },
     "execution_count": 5,
     "metadata": {},
     "output_type": "execute_result"
    }
   ],
   "source": [
    "'h' in port"
   ]
  },
  {
   "cell_type": "code",
   "execution_count": 9,
   "id": "58b4deac-9f23-47a0-8473-1fab1f576274",
   "metadata": {},
   "outputs": [
    {
     "ename": "KeyError",
     "evalue": "'Объект не найден: 3'",
     "output_type": "error",
     "traceback": [
      "\u001b[0;31m---------------------------------------------------------------------------\u001b[0m",
      "\u001b[0;31mKeyError\u001b[0m                                  Traceback (most recent call last)",
      "Cell \u001b[0;32mIn[9], line 1\u001b[0m\n\u001b[0;32m----> 1\u001b[0m port[\u001b[38;5;241m3\u001b[39m]\n",
      "File \u001b[0;32m~/Документы/Coding/Platform/backend/src/Core/Port.py:37\u001b[0m, in \u001b[0;36mPort.__getitem__\u001b[0;34m(self, key)\u001b[0m\n\u001b[1;32m     36\u001b[0m \u001b[38;5;28;01mdef\u001b[39;00m\u001b[38;5;250m \u001b[39m\u001b[38;5;21m__getitem__\u001b[39m(\u001b[38;5;28mself\u001b[39m, key: Union[uuid\u001b[38;5;241m.\u001b[39mUUID, \u001b[38;5;28mstr\u001b[39m, \u001b[38;5;28mint\u001b[39m]) \u001b[38;5;241m-\u001b[39m\u001b[38;5;241m>\u001b[39m Value:\n\u001b[0;32m---> 37\u001b[0m     \u001b[38;5;28;01mreturn\u001b[39;00m \u001b[38;5;28mself\u001b[39m\u001b[38;5;241m.\u001b[39m_values[key]\n",
      "File \u001b[0;32m~/Документы/Coding/Platform/backend/src/Core/ObjectRepository.py:139\u001b[0m, in \u001b[0;36mObjectRepository.__getitem__\u001b[0;34m(self, identifier)\u001b[0m\n\u001b[1;32m    137\u001b[0m         obj \u001b[38;5;241m=\u001b[39m \u001b[38;5;28;01mNone\u001b[39;00m\n\u001b[1;32m    138\u001b[0m \u001b[38;5;28;01mif\u001b[39;00m obj \u001b[38;5;129;01mis\u001b[39;00m \u001b[38;5;28;01mNone\u001b[39;00m:\n\u001b[0;32m--> 139\u001b[0m     \u001b[38;5;28;01mraise\u001b[39;00m \u001b[38;5;167;01mKeyError\u001b[39;00m(\u001b[38;5;124mf\u001b[39m\u001b[38;5;124m\"\u001b[39m\u001b[38;5;124mОбъект не найден: \u001b[39m\u001b[38;5;132;01m{\u001b[39;00midentifier\u001b[38;5;132;01m}\u001b[39;00m\u001b[38;5;124m\"\u001b[39m)\n\u001b[1;32m    140\u001b[0m \u001b[38;5;28;01mreturn\u001b[39;00m obj\n",
      "\u001b[0;31mKeyError\u001b[0m: 'Объект не найден: 3'"
     ]
    }
   ],
   "source": [
    "port[3]"
   ]
  },
  {
   "cell_type": "code",
   "execution_count": 11,
   "id": "9806e6c2-81af-4cfd-bf31-0df197f75df5",
   "metadata": {},
   "outputs": [
    {
     "data": {
      "text/plain": [
       "(100, <ValueStatus.CALCULATED: 3>)"
      ]
     },
     "execution_count": 11,
     "metadata": {},
     "output_type": "execute_result"
    }
   ],
   "source": [
    "port.h_1_1 = (100, 'calculated')\n",
    "port.h_1_1"
   ]
  },
  {
   "cell_type": "code",
   "execution_count": 12,
   "id": "d5e483f7-5caa-4415-811f-471c9b2d4edc",
   "metadata": {},
   "outputs": [
    {
     "data": {
      "text/plain": [
       "(100, <ValueStatus.CALCULATED: 3>)"
      ]
     },
     "execution_count": 12,
     "metadata": {},
     "output_type": "execute_result"
    }
   ],
   "source": [
    "port.h"
   ]
  }
 ],
 "metadata": {
  "kernelspec": {
   "display_name": "Python [conda env:base] *",
   "language": "python",
   "name": "conda-base-py"
  },
  "language_info": {
   "codemirror_mode": {
    "name": "ipython",
    "version": 3
   },
   "file_extension": ".py",
   "mimetype": "text/x-python",
   "name": "python",
   "nbconvert_exporter": "python",
   "pygments_lexer": "ipython3",
   "version": "3.13.5"
  }
 },
 "nbformat": 4,
 "nbformat_minor": 5
}
