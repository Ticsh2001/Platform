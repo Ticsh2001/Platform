{
 "cells": [
  {
   "cell_type": "markdown",
   "id": "7b87a679",
   "metadata": {},
   "source": [
    "## 1. Параметры"
   ]
  },
  {
   "cell_type": "code",
   "execution_count": null,
   "id": "4686ad9b",
   "metadata": {},
   "outputs": [],
   "source": [
    "from Core.Value import Value\n",
    "from Core.Element import Element\n",
    "from Core.Port import Port\n",
    "import numpy as np"
   ]
  },
  {
   "cell_type": "markdown",
   "id": "2230ff15",
   "metadata": {},
   "source": [
    "### 1.1 Задание Параметра"
   ]
  },
  {
   "cell_type": "code",
   "execution_count": 3,
   "id": "8199e113",
   "metadata": {},
   "outputs": [
    {
     "name": "stdout",
     "output_type": "stream",
     "text": [
      "Value(name='Давление', dimension='Па', value=10000000.0, status=CALCULATED)\n",
      "Value(name='Давление', dimension='Па', value=10000000.0, status=UNKNOWN)\n",
      "Value(name='Список', dimension=None, value=[1, 2, 3, 4, 5], status=DEPEND)\n",
      "Value(name='Список', dimension=None, value=<function <lambda> at 0x7de554b557e0>, status=FIXED, callable=<lambda>(x))\n",
      "Value(name='переменная', dimension=None, value=0, status=CALCULATED)\n"
     ]
    }
   ],
   "source": [
    "#При задании параметра помимо его значения (value), можно указать ее имя (name), \n",
    "#хранимую размерность (dimension), описание (description),\n",
    "#статус (status) (более подробно позже),\n",
    "#необходимо ли хранить предудущее состояние (store_prev)\n",
    "#минимальные (min_value) и максимальные (vax_value) значения\n",
    "val1 = Value(value=10e6, name='Давление', dimension='Па', description='Давление в отборе', \n",
    "             status='calculated', store_prev=True, min_value=0, max_value=20e6)\n",
    "\n",
    "#Минимальный набор параметров для задания\n",
    "val2 = Value(value=10e6, name='Давление', dimension='Па')\n",
    "\n",
    "#В переменной может храниться любой объект - не только числовое значение\n",
    "val3 = Value(value=[1, 2, 3, 4, 5], name='Список', dimension=None, status='depend', \n",
    "             store_prev=False) #Храним список с безразмерными велиичиными\n",
    "\n",
    "#Храним функцию возведения в квадрат\n",
    "val4 = Value(value=lambda x: x**2, name='Список', dimension=None, status='fixed')\n",
    "\n",
    "#Параметр можно задавать передавая словарь в специализированную функцию, создающую экземпляр объекта\n",
    "'''Поддерживаемые ключи:\n",
    "        - 'value' (обязательный): хранимое значение\n",
    "        - 'dimension' (обязательный): размерность величины\n",
    "        - 'name' (обязательный): имя величины\n",
    "        - 'description': описание (по умолчанию \"\")\n",
    "        - 'status': статус (строка или ValueStatus, по умолчанию UNKNOWN)\n",
    "        - 'store_prev': флаг сохранения истории (по умолчанию True)\n",
    "        - 'min_value': минимальное значение (по умолчанию None)\n",
    "        - 'max_value': максимальное значение (по умолчанию None)'''\n",
    "val5 = Value.from_dict({'value': 0, 'dimension': None, 'name': 'переменная', 'status': 'calculated'})\n",
    "\n",
    "print(val1)\n",
    "print(val2)\n",
    "print(val3)\n",
    "print(val4)\n",
    "print(val5)"
   ]
  },
  {
   "cell_type": "markdown",
   "id": "c8af066c",
   "metadata": {},
   "source": [
    "### 1.2 Получение информации о параметре"
   ]
  },
  {
   "cell_type": "code",
   "execution_count": null,
   "id": "e99993da",
   "metadata": {},
   "outputs": [
    {
     "name": "stdout",
     "output_type": "stream",
     "text": [
      "Размерность: Па\n",
      "Имя: Давление\n",
      "Описание: Давление в отборе\n",
      "Значение: 10000000.0\n",
      "Предыдущее значение: 10000000.0\n",
      "Статус: ValueStatus.CALCULATED\n",
      "Статус: ValueStatus.CALCULATED\n",
      "Тип хранимого значения: <class 'float'>\n",
      "Сохраняются ли предыдущие значения: False\n",
      "Минимально допустимое значение параметра: 0\n",
      "Минимально допустимое значение параметра: 20000000.0\n",
      "Невязка 1: None\n",
      "Невязка 2: 0.0\n",
      "Значение параметра: 10000000.0; статус параметра: ValueStatus.CALCULATED\n"
     ]
    }
   ],
   "source": [
    "#Получение размерности\n",
    "dim = val1.dimension\n",
    "print(f'Размерность: {dim}')\n",
    "\n",
    "#Получение имени параметра\n",
    "name = val1.name\n",
    "print(f'Имя: {name}')\n",
    "\n",
    "#Получение описания параметра\n",
    "desc = val1.description\n",
    "print(f'Описание: {desc}')\n",
    "\n",
    "#Получение значения параметра\n",
    "val = val1.value\n",
    "print(f'Значение: {val}')\n",
    "\n",
    "#Получение предыдущего значения параметра\n",
    "prev_val = val2.previous_value\n",
    "print(f'Предыдущее значение: {prev_val}')\n",
    "\n",
    "#Получение статуса параметра\n",
    "status = val1.status\n",
    "print(f'Статус: {status}')\n",
    "\n",
    "#Получение предыдущего статуса параметра\n",
    "prev_status = val1.previous_status\n",
    "print(f'Статус: {prev_status}')\n",
    "\n",
    "#Получение типа хранимого значения параметра\n",
    "val_type = val1.value_type\n",
    "print(f'Тип хранимого значения: {val_type}')\n",
    "\n",
    "#Получение информации о том хранятся ли предыдущие значения\n",
    "store_prev = val3.store_prev\n",
    "print(f'Сохраняются ли предыдущие значения: {store_prev}')\n",
    "\n",
    "#Получение минимально допустимого значения параметра\n",
    "min_val = val1.min_value\n",
    "print(f'Минимально допустимое значение параметра: {min_val}')\n",
    "\n",
    "#Получение максимально допустимого значения параметра\n",
    "max_val = val1.max_value\n",
    "print(f'Минимально допустимое значение параметра: {max_val}')\n",
    "\n",
    "#Получение невязки - разницы между текущим значением параметра и предыдущим\n",
    "residual1 = val3.get_residual() # У этого параметра отключена функция запоминания предыдщуего значения\n",
    "print(f'Невязка 1: {residual1}') \n",
    "residual2 = val1.get_residual() \n",
    "print(f'Невязка 2: {residual2}')\n",
    "\n",
    "#Получение \n",
    "\n",
    "#Получение кортежа из значения параметра и статуса его значения\n",
    "val, status = val1.get_state()\n",
    "print(f'Значение параметра: {val}; статус параметра: {status}')"
   ]
  },
  {
   "cell_type": "code",
   "execution_count": 2,
   "id": "347bcca8",
   "metadata": {},
   "outputs": [
    {
     "name": "stdout",
     "output_type": "stream",
     "text": [
      "(100.0, <ValueStatus.UNKNOWN: 1>)\n"
     ]
    },
    {
     "data": {
      "text/plain": [
       "(10, <ValueStatus.CALCULATED: 3>)"
      ]
     },
     "execution_count": 2,
     "metadata": {},
     "output_type": "execute_result"
    }
   ],
   "source": [
    "port_0_0 = Port('in1', Value(10, None, 'val1'), Value(100.0, None, 'val2'), Value('dddddddd', None, 'val3'))\n",
    "port_0_1 = Port('in2', Value(10, None, 'val1'), Value(100.0, None, 'val2'), Value('dddddddd', None, 'val3'))\n",
    "port_1_0 = Port('out1', Value(10, None, 'val1'), Value(100.0, None, 'val2'), Value('dddddddd', None, 'val3'))\n",
    "port_1_1 = Port('out2', Value(10, None, 'val1'), Value(100.0, None, 'val2'), Value('dddddddd', None, 'val3'))\n",
    "elem = Element('test', [port_0_0, port_0_1], [port_1_0, port_1_1], [Value(10, None, 'val1'), Value(100.0, None, 'val2'), Value('dddddddd', None, 'val3')], dict())\n",
    "elem[0, 1].val1[0]\n",
    "print(elem.val2_0_0)\n",
    "elem.val2_0_0 = (10, 'calculated')\n",
    "elem.val2_0_0\n"
   ]
  }
 ],
 "metadata": {
  "kernelspec": {
   "display_name": "Python 3",
   "language": "python",
   "name": "python3"
  },
  "language_info": {
   "codemirror_mode": {
    "name": "ipython",
    "version": 3
   },
   "file_extension": ".py",
   "mimetype": "text/x-python",
   "name": "python",
   "nbconvert_exporter": "python",
   "pygments_lexer": "ipython3",
   "version": "3.12.3"
  }
 },
 "nbformat": 4,
 "nbformat_minor": 5
}
